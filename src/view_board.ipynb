{
 "cells": [
  {
   "cell_type": "code",
   "execution_count": 13,
   "id": "5c8b7831",
   "metadata": {},
   "outputs": [
    {
     "name": "stdout",
     "output_type": "stream",
     "text": [
      "Requirement already satisfied: chess in c:\\users\\xaep\\anaconda3\\lib\\site-packages (1.11.2)\n"
     ]
    }
   ],
   "source": [
    "!pip install chess\n",
    "import chess\n",
    "import chess.svg"
   ]
  },
  {
   "cell_type": "code",
   "execution_count": 23,
   "id": "a502276a",
   "metadata": {},
   "outputs": [],
   "source": [
    "from IPython.display import clear_output\n",
    "\n",
    "with open(\"../data/raw/monster_chess_data.csv\") as file:\n",
    "    for i, line in enumerate(file):\n",
    "        if(i == 0): continue\n",
    "        fen = line.split(',')[0][1:-1]\n",
    "        board = chess.Board(fen)\n",
    "        display(chess.svg.board(board))\n",
    "        input()\n",
    "        clear_output()\n",
    "\n"
   ]
  }
 ],
 "metadata": {
  "kernelspec": {
   "display_name": "base",
   "language": "python",
   "name": "python3"
  },
  "language_info": {
   "codemirror_mode": {
    "name": "ipython",
    "version": 3
   },
   "file_extension": ".py",
   "mimetype": "text/x-python",
   "name": "python",
   "nbconvert_exporter": "python",
   "pygments_lexer": "ipython3",
   "version": "3.12.4"
  }
 },
 "nbformat": 4,
 "nbformat_minor": 5
}
